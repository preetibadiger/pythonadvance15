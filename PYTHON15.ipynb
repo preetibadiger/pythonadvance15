{
 "cells": [
  {
   "cell_type": "code",
   "execution_count": null,
   "id": "099305f9",
   "metadata": {},
   "outputs": [],
   "source": [
    "1. What are the new features added in Python 3.8 version?\n",
    "\n",
    "ANS:\n",
    "    The biggest change in Python 3.8 is the introduction of assignment expressions.\n",
    "    They are written using a new notation ( := ). This operator is often called the walrus operator\n",
    "    as it resembles the eyes and tusks of a walrus on its side."
   ]
  },
  {
   "cell_type": "code",
   "execution_count": null,
   "id": "47ce095a",
   "metadata": {},
   "outputs": [],
   "source": [
    "2. What is monkey patching in Python?\n",
    "\n",
    "ANS:\n",
    "    In Python, the term monkey patch refers to dynamic (or run-time) modifications of a class or module.\n",
    "    In Python, we can actually change the behavior of code at run-time. We use above module (monk) in below \n",
    "    code and change behavior of func() at run-time by assigning different value"
   ]
  },
  {
   "cell_type": "code",
   "execution_count": null,
   "id": "8e588a6a",
   "metadata": {},
   "outputs": [],
   "source": [
    "3. What is the difference between a shallow copy and deep copy?\n",
    "\n",
    "ANS:\n",
    "    Shallow Copy stores the references of objects to the original memory address.\n",
    "    Deep copy stores copies of the object's value.\n",
    "    Shallow Copy reflects changes made to the new/copied objectin the original object.\n",
    "    Deep copy doesn't reflect changes made to the new/copied object in the original object."
   ]
  },
  {
   "cell_type": "code",
   "execution_count": null,
   "id": "233847bf",
   "metadata": {},
   "outputs": [],
   "source": [
    "4. What is the maximum possible length of an identifier?\n",
    "\n",
    "ANS:\n",
    "    An identifier can have a maximum length of 79 characters in Python."
   ]
  },
  {
   "cell_type": "code",
   "execution_count": null,
   "id": "5beb60f1",
   "metadata": {},
   "outputs": [],
   "source": [
    "5. What is generator comprehension?\n",
    "\n",
    "ANS:\n",
    "    A generator comprehension is a single-line specification for defining a generator in Python.\n",
    "    It is absolutely essential to learn this syntax in order to write simple and readable code. "
   ]
  },
  {
   "cell_type": "code",
   "execution_count": null,
   "id": "de1d6682",
   "metadata": {},
   "outputs": [],
   "source": []
  }
 ],
 "metadata": {
  "kernelspec": {
   "display_name": "Python 3 (ipykernel)",
   "language": "python",
   "name": "python3"
  },
  "language_info": {
   "codemirror_mode": {
    "name": "ipython",
    "version": 3
   },
   "file_extension": ".py",
   "mimetype": "text/x-python",
   "name": "python",
   "nbconvert_exporter": "python",
   "pygments_lexer": "ipython3",
   "version": "3.9.7"
  }
 },
 "nbformat": 4,
 "nbformat_minor": 5
}
